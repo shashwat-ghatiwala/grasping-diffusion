{
 "cells": [
  {
   "cell_type": "markdown",
   "metadata": {},
   "source": [
    "# Notebook to convert all meshes from Acronym dataset into voxel grids and save them as .npy files\n",
    "\n",
    "Second half of the notebook has the functionality to save voxel grids as .h5 files"
   ]
  },
  {
   "cell_type": "code",
   "execution_count": 36,
   "metadata": {},
   "outputs": [
    {
     "name": "stdout",
     "output_type": "stream",
     "text": [
      "8836\n"
     ]
    }
   ],
   "source": [
    "import os\n",
    "import json\n",
    "import h5py\n",
    "import trimesh\n",
    "import trimesh.path\n",
    "import trimesh.transformations as tra\n",
    "import numpy as np\n",
    "from acronym_tools import load_mesh, load_grasps, create_gripper_marker\n",
    "\n",
    "import os, json\n",
    "import trimesh\n",
    "import mesh2sdf\n",
    "import numpy as np\n",
    "from scipy.spatial.transform import Rotation as R\n",
    "\n",
    "def create_voxel_grid(mesh, n=32, scale=1):\n",
    "    \"\"\"\n",
    "    Uses the the mesh2sdf library to convert the mesh into a (n x n x n) voxel grid\n",
    "    The values within the grid are sdf (signed distance function) values\n",
    "    Input - \n",
    "        1. mesh_path --> Path to mesh file (.obj file)\n",
    "        2. n --> size of voxel grid\n",
    "    Output - \n",
    "        1. mesh --> mesh object after loading, normalizing and fixing mesh\n",
    "        2. sdf --> (n x n x n) numpy array \n",
    "    \"\"\"\n",
    "\n",
    "    # Load mesh file\n",
    "    # mesh = trimesh.load(mesh_path, force='mesh')\n",
    "\n",
    "    mesh_scale = scale\n",
    "    size = n\n",
    "    level = 2 / size\n",
    "\n",
    "    # normalize mesh\n",
    "    vertices = mesh.vertices\n",
    "    bbmin = vertices.min(0)\n",
    "    bbmax = vertices.max(0)\n",
    "    center = (bbmin + bbmax) * 0.5\n",
    "    scale = 2.0 * mesh_scale / (bbmax - bbmin).max()\n",
    "    vertices = (vertices - center) * scale\n",
    "\n",
    "    sdf, mesh = mesh2sdf.compute(\n",
    "        vertices, mesh.faces, size, fix=True, level=level, return_mesh=True)\n",
    "\n",
    "    # output\n",
    "    mesh.vertices = mesh.vertices / scale + center\n",
    "\n",
    "    return mesh, sdf\n",
    "\n",
    "def makedirs(dirname):\n",
    "    if not os.path.exists(dirname):\n",
    "        os.makedirs(dirname)\n",
    "\n",
    "grasp_dir = \"/home/username/data/grasps\"\n",
    "grasp_paths = [os.path.join(grasp_dir, i) for i in os.listdir(grasp_dir)]\n",
    "print(len(grasp_paths))"
   ]
  },
  {
   "cell_type": "code",
   "execution_count": 37,
   "metadata": {},
   "outputs": [],
   "source": [
    "grasp_path = grasp_paths[0]\n",
    "mesh_root = \"/home/username/data\"\n",
    "\n",
    "data = h5py.File(grasp_path, \"r\")\n",
    "mesh_fname = data[\"object/file\"][()].decode('utf-8')\n",
    "mesh_scale = data[\"object/scale\"][()]\n",
    "\n",
    "obj_mesh = trimesh.load(os.path.join(mesh_root, mesh_fname))\n",
    "obj_mesh = obj_mesh.apply_scale(mesh_scale)\n"
   ]
  },
  {
   "cell_type": "markdown",
   "metadata": {},
   "source": [
    "### Looping over all meshes and converting them into .npy files"
   ]
  },
  {
   "cell_type": "code",
   "execution_count": 38,
   "metadata": {},
   "outputs": [
    {
     "name": "stderr",
     "output_type": "stream",
     "text": [
      " 38%|███▊      | 3368/8836 [23:23<31:12,  2.92it/s]  /opt/conda/lib/python3.10/site-packages/trimesh/grouping.py:99: RuntimeWarning: invalid value encountered in cast\n",
      "  stacked = np.column_stack(stacked).round().astype(np.int64)\n",
      "100%|██████████| 8836/8836 [1:06:09<00:00,  2.23it/s]\n"
     ]
    }
   ],
   "source": [
    "from tqdm import tqdm\n",
    "\n",
    "voxel_dirname = \"/home/username/data/voxel_grids\"\n",
    "for i in tqdm(range(len(grasp_paths))):\n",
    "    grasp_path = grasp_paths[i]\n",
    "    mesh_root = \"/home/username/data\"\n",
    "\n",
    "    data = h5py.File(grasp_path, \"r\")\n",
    "    mesh_fname = data[\"object/file\"][()].decode('utf-8')\n",
    "    mesh_scale = data[\"object/scale\"][()]\n",
    "\n",
    "    temp = mesh_fname.split(\"/\")\n",
    "    converted_dirname = os.path.join(voxel_dirname, temp[1])\n",
    "    makedirs(converted_dirname)\n",
    "    output_fname = os.path.splitext(temp[2])[0] + \".npy\"\n",
    "    output_fname = os.path.join(converted_dirname, output_fname)\n",
    "    # print(output_fname)\n",
    "\n",
    "    obj_mesh = trimesh.load(os.path.join(mesh_root, mesh_fname),  file_type='obj', force='mesh')\n",
    "    mesh, sdf = create_voxel_grid(obj_mesh, scale=mesh_scale)\n",
    "    # print(sdf.shape)\n",
    "\n",
    "    np.save(output_fname, sdf)\n",
    "    # break;"
   ]
  }
 ],
 "metadata": {
  "kernelspec": {
   "display_name": "base",
   "language": "python",
   "name": "python3"
  },
  "language_info": {
   "codemirror_mode": {
    "name": "ipython",
    "version": 3
   },
   "file_extension": ".py",
   "mimetype": "text/x-python",
   "name": "python",
   "nbconvert_exporter": "python",
   "pygments_lexer": "ipython3",
   "version": "3.10.13"
  },
  "orig_nbformat": 4
 },
 "nbformat": 4,
 "nbformat_minor": 2
}
